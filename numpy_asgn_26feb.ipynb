{
 "cells": [
  {
   "cell_type": "code",
   "execution_count": 1,
   "id": "996cf171-b6b2-4aab-a3a2-0a0d77a4e4b9",
   "metadata": {},
   "outputs": [
    {
     "data": {
      "text/plain": [
       "array(['1', '2', '3', '4', '5'], dtype='<U1')"
      ]
     },
     "execution_count": 1,
     "metadata": {},
     "output_type": "execute_result"
    }
   ],
   "source": [
    "import numpy as np\n",
    "list_= ['1','2','3','4','5']\n",
    "array_list = np.array(object = list_)\n",
    "array_list"
   ]
  },
  {
   "cell_type": "markdown",
   "id": "364b2b72-7688-4cde-89cf-12446c792dc8",
   "metadata": {},
   "source": [
    "##### Q1. Is there any difference in the data type of variables list_ and array_list? If there is then write a code to print the data types of both the variables."
   ]
  },
  {
   "cell_type": "code",
   "execution_count": 2,
   "id": "ad4f62ca-d382-4244-9861-fafaf1d56355",
   "metadata": {},
   "outputs": [
    {
     "name": "stdout",
     "output_type": "stream",
     "text": [
      "<class 'list'>\n",
      "<class 'numpy.ndarray'>\n",
      "<U1\n"
     ]
    }
   ],
   "source": [
    "# Yes, python list is built-in data type whereus, for using numpy array we have to import numpy module.\n",
    "\n",
    "# 1.Speed of execution of numpy array is faster than list.\n",
    "# 2.Numpy array consume less memory as compared to python list , because list is hetrogenous in nature whereus numpy array is homogeneous in nature.\n",
    "# 3.Numpy array is convenient to use.\n",
    "\n",
    "print(type(list_))\n",
    "print(type(array_list),array_list.dtype,sep=\"\\n\")\n",
    "\n"
   ]
  },
  {
   "cell_type": "markdown",
   "id": "8bfa51a7-2e38-4e68-b5cc-da9f92a52d65",
   "metadata": {},
   "source": [
    "##### Q2. Write a code to print the data type of each and every element of both the variables list_ and arra_list."
   ]
  },
  {
   "cell_type": "markdown",
   "id": "aaf9574f-efef-44c3-8204-166ed8ead9e7",
   "metadata": {
    "tags": []
   },
   "source": [
    "- Elements of list belongs to str data type, whereus element of array are unicode strings."
   ]
  },
  {
   "cell_type": "code",
   "execution_count": 3,
   "id": "4cadac10-0e28-4603-b835-5f98581d15b8",
   "metadata": {},
   "outputs": [
    {
     "name": "stdout",
     "output_type": "stream",
     "text": [
      "<class 'str'> <class 'str'> <class 'str'> <class 'str'> <class 'str'> "
     ]
    }
   ],
   "source": [
    "for i in list_:\n",
    "    print(type(i),end=\" \")"
   ]
  },
  {
   "cell_type": "code",
   "execution_count": 4,
   "id": "b91b8d49-a400-401b-afc4-eb8db1df0a74",
   "metadata": {},
   "outputs": [
    {
     "name": "stdout",
     "output_type": "stream",
     "text": [
      "<U1 <U1 <U1 <U1 <U1 "
     ]
    }
   ],
   "source": [
    "for i in array_list:\n",
    "    print(i.dtype,end=\" \")"
   ]
  },
  {
   "cell_type": "markdown",
   "id": "03e37ccc-a20e-43a9-a0a8-e188261d8fef",
   "metadata": {},
   "source": [
    "##### Q3. Considering the following changes in the variable, array_list:\n",
    "\n",
    "array_list = np.array(object = list_, dtype = int)\n",
    "\n",
    "Will there be any difference in the data type of the elements present in both the variables, list_ and \n",
    "arra_list? If so then print the data types of each and every element present in both the variables, list_ \n",
    "and arra_list.\n"
   ]
  },
  {
   "cell_type": "code",
   "execution_count": 5,
   "id": "64344bee-3ffd-4812-bde5-252af3696cf8",
   "metadata": {},
   "outputs": [],
   "source": [
    "array_list=np.array(object=list_,dtype=int)"
   ]
  },
  {
   "cell_type": "markdown",
   "id": "35829aaa-352f-4f93-af42-beeadd228c92",
   "metadata": {},
   "source": [
    "- Yes there will be now in numpy array with change the datatype into int. Elements of list belongs to str data type, whereus element of array are int."
   ]
  },
  {
   "cell_type": "code",
   "execution_count": 6,
   "id": "979a3059-e1fb-4262-9e18-0defb4132acb",
   "metadata": {},
   "outputs": [
    {
     "name": "stdout",
     "output_type": "stream",
     "text": [
      "<class 'str'> <class 'str'> <class 'str'> <class 'str'> <class 'str'> "
     ]
    }
   ],
   "source": [
    "for i in list_:\n",
    "    print(type(i),end=\" \")"
   ]
  },
  {
   "cell_type": "code",
   "execution_count": 7,
   "id": "686619be-966f-40dc-8e00-a3f2b41c867e",
   "metadata": {},
   "outputs": [
    {
     "name": "stdout",
     "output_type": "stream",
     "text": [
      "int64 int64 int64 int64 int64 "
     ]
    }
   ],
   "source": [
    "for i in array_list:\n",
    "    print(i.dtype,end=\" \")"
   ]
  },
  {
   "cell_type": "code",
   "execution_count": 8,
   "id": "fa4d3514-d8e0-4bcf-af16-060a70ce5c34",
   "metadata": {},
   "outputs": [],
   "source": [
    "#Consider the below code to answer further questions:\n",
    "\n",
    "import numpy as np\n",
    "\n",
    "num_list = [ [ 1 , 2 , 3 ] , [ 4 , 5 , 6 ] ]\n",
    "\n",
    "num_array = np.array(object = num_list)"
   ]
  },
  {
   "cell_type": "markdown",
   "id": "084866ac-98e4-4c6f-a740-c22cb142441a",
   "metadata": {},
   "source": [
    "##### Q4. Write a code to find the following characteristics of variable, num_array:\n",
    "\n",
    "(i)\t shape\n",
    "\n",
    "(ii) size"
   ]
  },
  {
   "cell_type": "code",
   "execution_count": 9,
   "id": "60a242ba-2950-477a-a505-9855cf819b6f",
   "metadata": {},
   "outputs": [
    {
     "name": "stdout",
     "output_type": "stream",
     "text": [
      "(2, 3)\n",
      "6\n"
     ]
    }
   ],
   "source": [
    "print(num_array.shape)\n",
    "print(num_array.size)"
   ]
  },
  {
   "cell_type": "markdown",
   "id": "d652aa6c-d875-4851-9f93-a54aa48258f9",
   "metadata": {},
   "source": [
    "##### Q5. Write a code to create numpy array of 3*3 matrix containing zeros only, using a numpy array creation function.\n",
    "\n",
    "[Hint: The size of the array will be 9 and the shape will be (3,3).]\n",
    "\n"
   ]
  },
  {
   "cell_type": "code",
   "execution_count": 10,
   "id": "e43501ab-07a8-4828-9786-95a57942b0f4",
   "metadata": {},
   "outputs": [
    {
     "data": {
      "text/plain": [
       "array([[0, 0, 0],\n",
       "       [0, 0, 0],\n",
       "       [0, 0, 0]], dtype=int8)"
      ]
     },
     "execution_count": 10,
     "metadata": {},
     "output_type": "execute_result"
    }
   ],
   "source": [
    "import numpy as np\n",
    "a=np.zeros((3,3),dtype=np.int8)\n",
    "a"
   ]
  },
  {
   "cell_type": "markdown",
   "id": "69590e5c-9a52-4271-b8c9-049189a5ae80",
   "metadata": {},
   "source": [
    "##### Q6. Create an identity matrix of shape (5,5) using numpy functions?\n",
    "\n",
    "[Hint: An identity matrix is a matrix containing 1 diagonally and other elements will be 0.]"
   ]
  },
  {
   "cell_type": "code",
   "execution_count": 11,
   "id": "5c47c08d-7e87-451c-947a-32c75dfb5e94",
   "metadata": {},
   "outputs": [
    {
     "data": {
      "text/plain": [
       "array([[1, 0, 0, 0, 0],\n",
       "       [0, 1, 0, 0, 0],\n",
       "       [0, 0, 1, 0, 0],\n",
       "       [0, 0, 0, 1, 0],\n",
       "       [0, 0, 0, 0, 1]], dtype=int16)"
      ]
     },
     "execution_count": 11,
     "metadata": {},
     "output_type": "execute_result"
    }
   ],
   "source": [
    "#using identity()\n",
    "i=np.identity(5,dtype=np.int16)\n",
    "i"
   ]
  },
  {
   "cell_type": "code",
   "execution_count": 12,
   "id": "9cf43c29-133b-4495-8e08-a4f4de2d2e05",
   "metadata": {},
   "outputs": [
    {
     "data": {
      "text/plain": [
       "array([[1., 0., 0., 0., 0.],\n",
       "       [0., 1., 0., 0., 0.],\n",
       "       [0., 0., 1., 0., 0.],\n",
       "       [0., 0., 0., 1., 0.],\n",
       "       [0., 0., 0., 0., 1.]])"
      ]
     },
     "execution_count": 12,
     "metadata": {},
     "output_type": "execute_result"
    }
   ],
   "source": [
    "#using eye()\n",
    "e=np.eye(5)\n",
    "e"
   ]
  }
 ],
 "metadata": {
  "kernelspec": {
   "display_name": "Python 3 (ipykernel)",
   "language": "python",
   "name": "python3"
  },
  "language_info": {
   "codemirror_mode": {
    "name": "ipython",
    "version": 3
   },
   "file_extension": ".py",
   "mimetype": "text/x-python",
   "name": "python",
   "nbconvert_exporter": "python",
   "pygments_lexer": "ipython3",
   "version": "3.10.8"
  }
 },
 "nbformat": 4,
 "nbformat_minor": 5
}
